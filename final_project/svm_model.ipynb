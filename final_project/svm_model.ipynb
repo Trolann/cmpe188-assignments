{
 "cells": [
  {
   "cell_type": "markdown",
   "id": "72c61925",
   "metadata": {},
   "source": [
    "# Aaron, SVM"
   ]
  },
  {
   "cell_type": "code",
   "id": "a0ac17da",
   "metadata": {
    "ExecuteTime": {
     "end_time": "2025-05-01T16:30:38.233989Z",
     "start_time": "2025-05-01T16:30:37.285342Z"
    }
   },
   "source": [
    "from perform_kickstarer_eda import *"
   ],
   "outputs": [
    {
     "name": "stdout",
     "output_type": "stream",
     "text": [
      "ks_data shape: (20632, 68)\n",
      "Categorical columns: ['country', 'currency', 'deadline', 'state_changed_at', 'created_at', 'launched_at', 'category', 'deadline_weekday', 'state_changed_at_weekday', 'created_at_weekday', 'launched_at_weekday', 'launch_to_deadline', 'launch_to_state_change']\n",
      "Converted boolean column: staff_pick\n",
      "Dropped 'state_changed_at_weekday' column\n",
      "Dropping original column: category\n",
      "Encoded column: category → 25 features\n",
      "Dropping original column: deadline_weekday\n",
      "Encoded column: deadline_weekday → 7 features\n",
      "Dropping original column: created_at_weekday\n",
      "Encoded column: created_at_weekday → 7 features\n",
      "Dropping original column: launched_at_weekday\n",
      "Encoded column: launched_at_weekday → 7 features\n",
      "Total categorical columns after encoding: 54\n"
     ]
    }
   ],
   "execution_count": 1
  },
  {
   "cell_type": "code",
   "id": "5e1de734",
   "metadata": {
    "ExecuteTime": {
     "end_time": "2025-05-01T16:30:38.359562Z",
     "start_time": "2025-05-01T16:30:38.313819Z"
    }
   },
   "source": [
    "from sklearn.model_selection import train_test_split\n",
    "from sklearn.model_selection import cross_val_score\n",
    "import numpy as np\n",
    "import pandas as pd\n",
    "\n",
    "\n",
    "X = kickstarter.copy()\n",
    "Y1 = kickstarter['SuccessfulBool']\n",
    "X = X.drop(columns=['SuccessfulBool'])\n",
    "\n",
    "print(\"X shape: \", X.shape)\n",
    "print(\"Y1 shape: \", Y1.shape)\n",
    "\n",
    "X_train, X_test, y_train, y_test = train_test_split(X, Y1, test_size=0.2, random_state=42)\n"
   ],
   "outputs": [
    {
     "name": "stdout",
     "output_type": "stream",
     "text": [
      "X shape:  (20627, 66)\n",
      "Y1 shape:  (20627,)\n"
     ]
    }
   ],
   "execution_count": 2
  },
  {
   "cell_type": "code",
   "id": "1aaee546",
   "metadata": {
    "ExecuteTime": {
     "end_time": "2025-05-01T16:31:11.707746Z",
     "start_time": "2025-05-01T16:30:38.425786Z"
    }
   },
   "source": [
    "from sklearn.svm import SVC\n",
    "from sklearn.model_selection import KFold\n",
    "from matplotlib import pyplot\n",
    "\n",
    "def evaluate_svc_models(models, X, y):\n",
    "    results = []\n",
    "    names = []\n",
    "    for name, model in models:\n",
    "        kfold = KFold(n_splits=10, shuffle=True, random_state=42)\n",
    "        cv_results = cross_val_score(model, X, y, cv=kfold, scoring='accuracy')\n",
    "        results.append(cv_results)\n",
    "        names.append(name)\n",
    "        print(f\"{name}: {cv_results.mean()} ({cv_results.std()})\")\n",
    "    fig = pyplot.figure()\n",
    "    fig.suptitle('SVC Model Comparison')\n",
    "    ax = fig.add_subplot(111)\n",
    "    pyplot.boxplot(results, tick_labels=names)\n",
    "    ax.set_ylabel('Accuracy')\n",
    "    pyplot.show()\n",
    "\n",
    "\n",
    "models = []\n",
    "\n",
    "svc_rbf_model = SVC(kernel='rbf', C=1.0, random_state=42)\n",
    "svc_poly_model = SVC(kernel='poly', degree=2, C=1.0, random_state=42)\n",
    "\n",
    "models.append(('SVC_RBF', svc_rbf_model))\n",
    "models.append(('SVC_POLY', svc_poly_model))\n",
    "evaluate_svc_models(models, X_train, y_train)"
   ],
   "outputs": [
    {
     "name": "stdout",
     "output_type": "stream",
     "text": [
      "SVC_RBF: 0.9284891434025291 (0.00732342494176012)\n",
      "SVC_POLY: 0.9258222931923721 (0.006893696739990794)\n"
     ]
    },
    {
     "name": "stderr",
     "output_type": "stream",
     "text": [
      "/tmp/ipykernel_35702/2816383701.py:17: MatplotlibDeprecationWarning: The 'labels' parameter of boxplot() has been renamed 'tick_labels' since Matplotlib 3.9; support for the old name will be dropped in 3.11.\n",
      "  pyplot.boxplot(results, labels=names)\n"
     ]
    },
    {
     "data": {
      "text/plain": [
       "<Figure size 640x480 with 1 Axes>"
      ],
      "image/png": "[encoded data removed]"
     },
     "metadata": {},
     "output_type": "display_data"
    }
   ],
   "execution_count": 3
  },
  {
   "cell_type": "code",
   "id": "ae9a89f3",
   "metadata": {
    "jupyter": {
     "is_executing": true
    },
    "ExecuteTime": {
     "start_time": "2025-05-01T16:31:11.790469Z"
    }
   },
   "source": [
    "from sklearn.svm import SVC\n",
    "from sklearn.model_selection import KFold, GridSearchCV, cross_val_score\n",
    "from matplotlib import pyplot as plt\n",
    "\n",
    "def evaluate_svc_models(models, X, y):\n",
    "    results = []\n",
    "    names = []\n",
    "    for name, _ in models:\n",
    "        print(f\"Tuning hyperparameters for: {name}\")\n",
    "        kfold = KFold(n_splits=10, shuffle=True, random_state=42)\n",
    "\n",
    "        if name == 'SVC_RBF':\n",
    "            param_grid = {\n",
    "                'C': [0.1, 1, 10],\n",
    "                'gamma': ['scale', 'auto', 0.01, 0.1]\n",
    "            }\n",
    "            model = SVC(kernel='rbf', random_state=42)\n",
    "\n",
    "        elif name == 'SVC_POLY':\n",
    "            param_grid = {\n",
    "                'C': [0.1, 1, 10],\n",
    "                'degree': [2, 3, 4],\n",
    "                'gamma': ['scale', 'auto']\n",
    "            }\n",
    "            model = SVC(kernel='poly', random_state=42)\n",
    "\n",
    "        elif name == 'SVC_LINEAR':\n",
    "            param_grid = {\n",
    "                'C': [0.1, 1, 10],\n",
    "                'tol': [1e-4, 1e-3]\n",
    "            }\n",
    "            model = SVC(kernel='linear', random_state=42)\n",
    "\n",
    "        elif name == 'SVC_SIGMOID':\n",
    "            param_grid = {\n",
    "                'C': [0.1, 1, 10],\n",
    "                'gamma': ['scale', 'auto']\n",
    "            }\n",
    "            model = SVC(kernel='sigmoid', random_state=42)\n",
    "\n",
    "        else:\n",
    "            continue\n",
    "\n",
    "        grid = GridSearchCV(model, param_grid, cv=kfold, scoring='accuracy', n_jobs=-1)\n",
    "        grid.fit(X, y)\n",
    "\n",
    "        print(f\"Best params for {name}: {grid.best_params_}\")\n",
    "        print(f\"Best CV accuracy: {grid.best_score_:.4f}\")\n",
    "\n",
    "        # Evaluate best estimator using cross_val_score\n",
    "        cv_results = cross_val_score(grid.best_estimator_, X, y, cv=kfold, scoring='accuracy')\n",
    "        results.append(cv_results)\n",
    "        names.append(name)\n",
    "\n",
    "    # Plot results\n",
    "    fig = plt.figure()\n",
    "    fig.suptitle('Tuned SVC Model Comparison')\n",
    "    ax = fig.add_subplot(111)\n",
    "    plt.boxplot(results, labels=names)\n",
    "    ax.set_ylabel('Accuracy')\n",
    "    plt.show()\n",
    "\n",
    "# You still pass in model names (the second item is ignored)\n",
    "models = [('SVC_RBF', None), ('SVC_POLY', None), ('SVC_LINEAR', None), ('SVC_SIGMOID', None)]\n",
    "evaluate_svc_models(models, X_train, y_train)\n"
   ],
   "outputs": [
    {
     "name": "stdout",
     "output_type": "stream",
     "text": [
      "Tuning hyperparameters for: SVC_RBF\n",
      "Best params for SVC_RBF: {'C': 10, 'gamma': 'scale'}\n",
      "Best CV accuracy: 0.9310\n",
      "Tuning hyperparameters for: SVC_POLY\n"
     ]
    }
   ],
   "execution_count": null
  }
 ],
 "metadata": {
  "kernelspec": {
   "display_name": "base",
   "language": "python",
   "name": "python3"
  },
  "language_info": {
   "codemirror_mode": {
    "name": "ipython",
    "version": 3
   },
   "file_extension": ".py",
   "mimetype": "text/x-python",
   "name": "python",
   "nbconvert_exporter": "python",
   "pygments_lexer": "ipython3",
   "version": "3.12.7"
  }
 },
 "nbformat": 4,
 "nbformat_minor": 5
}
