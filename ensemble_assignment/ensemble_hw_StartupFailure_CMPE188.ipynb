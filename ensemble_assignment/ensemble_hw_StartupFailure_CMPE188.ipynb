{
 "cells": [
  {
   "cell_type": "markdown",
   "metadata": {},
   "source": [
    "Worked with:\n",
    "- Trevor Mathisen\n",
    "\n",
    "- Viet Nguyen"
   ]
  }
 ],
 "metadata": {
  "language_info": {
   "name": "python"
  }
 },
 "nbformat": 4,
 "nbformat_minor": 2
}
