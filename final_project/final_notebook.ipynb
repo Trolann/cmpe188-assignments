{
 "cells": [
  {
   "metadata": {},
   "cell_type": "markdown",
   "source": [
    "# Final Notebook\n",
    "# Add names, etc."
   ],
   "id": "36ffc227b55e8496"
  },
  {
   "metadata": {},
   "cell_type": "markdown",
   "source": "# Part 1: EDA",
   "id": "50abb9c404f7102"
  },
  {
   "metadata": {},
   "cell_type": "code",
   "outputs": [],
   "execution_count": null,
   "source": "final_models = [] # Add your final models here as a tuple of ('name', model)) for Part 3",
   "id": "f0f508524da4fb84"
  },
  {
   "cell_type": "code",
   "execution_count": null,
   "id": "initial_id",
   "metadata": {
    "collapsed": true
   },
   "outputs": [],
   "source": [
    ""
   ]
  },
  {
   "metadata": {},
   "cell_type": "markdown",
   "source": "# Part 2: Models (tuning and final models)",
   "id": "3405667febbbcf8"
  },
  {
   "metadata": {},
   "cell_type": "code",
   "outputs": [],
   "execution_count": null,
   "source": "",
   "id": "4180282ca9a775ac"
  },
  {
   "metadata": {},
   "cell_type": "markdown",
   "source": "# Part 3: Display results (from all final models",
   "id": "65d11203b6562b07"
  },
  {
   "metadata": {},
   "cell_type": "code",
   "outputs": [],
   "execution_count": null,
   "source": [
    "for name, model in final_models:\n",
    "    print(f\"Model: {name}\")\n",
    "    # TODO: Display results for each model"
   ],
   "id": "3193ef527dfa0e2f"
  }
 ],
 "metadata": {
  "kernelspec": {
   "display_name": "Python 3",
   "language": "python",
   "name": "python3"
  },
  "language_info": {
   "codemirror_mode": {
    "name": "ipython",
    "version": 2
   },
   "file_extension": ".py",
   "mimetype": "text/x-python",
   "name": "python",
   "nbconvert_exporter": "python",
   "pygments_lexer": "ipython2",
   "version": "2.7.6"
  }
 },
 "nbformat": 4,
 "nbformat_minor": 5
}
