{
 "cells": [
  {
   "metadata": {},
   "cell_type": "markdown",
   "source": [
    "Worked with:\n",
    "- Trevor Mathisen\n",
    "\n",
    "- Viet Nguyen"
   ],
   "id": "9327260c5dbfc1ec"
  },
  {
   "metadata": {},
   "cell_type": "markdown",
   "source": [
    "1. Download startup failure dataset and its description.\n",
    "2. Perform standard EDA to get familiar with the dataset."
   ],
   "id": "b2f8a7c4f3714356"
  },
  {
   "cell_type": "code",
   "id": "initial_id",
   "metadata": {
    "collapsed": true,
    "ExecuteTime": {
     "end_time": "2025-04-08T17:37:31.942537Z",
     "start_time": "2025-04-08T17:37:31.466636Z"
    }
   },
   "source": [
    "import pandas as pd\n",
    "from pandas import set_option\n",
    "from pandas import read_csv\n",
    "from sklearn.preprocessing import StandardScaler\n",
    "from sklearn.preprocessing import Normalizer, LabelEncoder\n",
    "from sklearn.linear_model import LogisticRegression\n",
    "from sklearn.feature_selection import RFE\n",
    "from sklearn.model_selection import KFold, cross_val_score\n",
    "from numpy import set_printoptions, log, argmax\n",
    "import seaborn as sns\n",
    "from pandas.plotting import scatter_matrix\n",
    "import statsmodels.api as sm\n",
    "import matplotlib.pyplot as plt\n",
    "from sklearn.datasets import make_classification\n",
    "from sklearn.tree import DecisionTreeClassifier, DecisionTreeRegressor, plot_tree\n",
    "from sklearn.metrics import precision_recall_curve, mean_squared_error\n",
    "from sklearn.model_selection import train_test_split\n",
    "from sklearn.datasets import make_classification\n"
   ],
   "outputs": [],
   "execution_count": 1
  },
  {
   "metadata": {
    "ExecuteTime": {
     "end_time": "2025-04-08T17:50:31.593Z",
     "start_time": "2025-04-08T17:50:31.585703Z"
    }
   },
   "cell_type": "code",
   "source": [
    "filename = 'startupfailures.csv'\n",
    "data = read_csv(filename)\n",
    "set_printoptions(precision=3)\n",
    "data = data.dropna()\n",
    "print(data.isnull().sum())"
   ],
   "id": "a06911aa47df7491",
   "outputs": [
    {
     "name": "stdout",
     "output_type": "stream",
     "text": [
      "Name                      0\n",
      "Sector                    0\n",
      "Years of Operation        0\n",
      "What They Did             0\n",
      "How Much They Raised      0\n",
      "Why They Failed           0\n",
      "Takeaway                  0\n",
      "Giants                    0\n",
      "No Budget                 0\n",
      "Competition               0\n",
      "Poor Market Fit           0\n",
      "Acquisition Stagnation    0\n",
      "Platform Dependency       0\n",
      "Monetization Failure      0\n",
      "Niche Limits              0\n",
      "Execution Flaws           0\n",
      "Trend Shifts              0\n",
      "Toxicity/Trust Issues     0\n",
      "Regulatory Pressure       0\n",
      "Overhype                  0\n",
      "dtype: int64\n"
     ]
    }
   ],
   "execution_count": 36
  },
  {
   "metadata": {
    "ExecuteTime": {
     "end_time": "2025-04-08T17:39:03.706865Z",
     "start_time": "2025-04-08T17:39:03.699707Z"
    }
   },
   "cell_type": "code",
   "source": "print(data.head(5))",
   "id": "3c26b45f04235972",
   "outputs": [
    {
     "name": "stdout",
     "output_type": "stream",
     "text": [
      "             Name                 Sector Years of Operation  \\\n",
      "0           Avant  Finance and Insurance          2012-2023   \n",
      "1         Bitpass  Finance and Insurance          2002-2008   \n",
      "2  Cake Financial  Finance and Insurance          2006-2011   \n",
      "3          Circle  Finance and Insurance          2013-2023   \n",
      "4   Clarity Money  Finance and Insurance          2016-2022   \n",
      "\n",
      "                    What They Did How Much They Raised  \\\n",
      "0           Online personal loans                $655M   \n",
      "1          Micropayments platform                  $2M   \n",
      "2         Portfolio tracking tool                  $3M   \n",
      "3  Crypto payments and stablecoin                $500M   \n",
      "4            Personal finance app                 $11M   \n",
      "\n",
      "                           Why They Failed                     Takeaway  \\\n",
      "0    Lost to LendingClub and high defaults   Lending needs risk balance   \n",
      "1          Lost to PayPal and low adoption  Micropayments need mass use   \n",
      "2       Lost to Mint and sold to TradeKing     Finance tools need scale   \n",
      "3       Lost to Coinbase and market shifts       Crypto needs stability   \n",
      "4  Lost to Mint/Acorns and sold to Goldman       Finance apps need edge   \n",
      "\n",
      "   Giants  No Budget  Competition  Poor Market Fit  Acquisition Stagnation  \\\n",
      "0       1          1            1                0                       0   \n",
      "1       1          0            1                1                       0   \n",
      "2       1          0            1                0                       1   \n",
      "3       1          0            1                0                       0   \n",
      "4       1          0            1                0                       1   \n",
      "\n",
      "   Platform Dependency  Monetization Failure  Niche Limits  Execution Flaws  \\\n",
      "0                    0                     0             0                0   \n",
      "1                    0                     0             0                0   \n",
      "2                    0                     0             0                0   \n",
      "3                    0                     0             0                0   \n",
      "4                    0                     0             0                0   \n",
      "\n",
      "   Trend Shifts  Toxicity/Trust Issues  Regulatory Pressure  Overhype  \n",
      "0             0                      0                    0       0.0  \n",
      "1             0                      0                    0       0.0  \n",
      "2             0                      0                    0       0.0  \n",
      "3             1                      0                    0       0.0  \n",
      "4             0                      0                    0       0.0  \n"
     ]
    }
   ],
   "execution_count": 4
  },
  {
   "metadata": {
    "ExecuteTime": {
     "end_time": "2025-04-08T17:50:33.148511Z",
     "start_time": "2025-04-08T17:50:33.138420Z"
    }
   },
   "cell_type": "code",
   "source": [
    "# Years of operation is a string like '2012-2023'. We need to convert this to three columns: the abs value of the difference in the current column and two new columns: start year, end year.\n",
    "data['start_year'] = data['Years of Operation'].str.split(\"-\", expand=True)[0].astype(int)\n",
    "data['end_year'] = data['Years of Operation'].str.split(\"-\", expand=True)[1].astype(int)\n",
    "data = data.drop(columns=['Years of Operation'])\n",
    "data['Years of Operation'] = data['end_year'] - data['start_year']\n",
    "data = data.drop(columns=['start_year', 'end_year', \"What They Did\", \"Why They Failed\", \"Takeaway\", \"Name\"])\n",
    "print(data.isnull().sum())\n",
    "print(data.head(5))"
   ],
   "id": "276c8df870c6071",
   "outputs": [
    {
     "name": "stdout",
     "output_type": "stream",
     "text": [
      "Sector                    0\n",
      "How Much They Raised      0\n",
      "Giants                    0\n",
      "No Budget                 0\n",
      "Competition               0\n",
      "Poor Market Fit           0\n",
      "Acquisition Stagnation    0\n",
      "Platform Dependency       0\n",
      "Monetization Failure      0\n",
      "Niche Limits              0\n",
      "Execution Flaws           0\n",
      "Trend Shifts              0\n",
      "Toxicity/Trust Issues     0\n",
      "Regulatory Pressure       0\n",
      "Overhype                  0\n",
      "Years of Operation        0\n",
      "dtype: int64\n",
      "                  Sector How Much They Raised  Giants  No Budget  Competition  \\\n",
      "0  Finance and Insurance                $655M       1          1            1   \n",
      "1  Finance and Insurance                  $2M       1          0            1   \n",
      "2  Finance and Insurance                  $3M       1          0            1   \n",
      "3  Finance and Insurance                $500M       1          0            1   \n",
      "4  Finance and Insurance                 $11M       1          0            1   \n",
      "\n",
      "   Poor Market Fit  Acquisition Stagnation  Platform Dependency  \\\n",
      "0                0                       0                    0   \n",
      "1                1                       0                    0   \n",
      "2                0                       1                    0   \n",
      "3                0                       0                    0   \n",
      "4                0                       1                    0   \n",
      "\n",
      "   Monetization Failure  Niche Limits  Execution Flaws  Trend Shifts  \\\n",
      "0                     0             0                0             0   \n",
      "1                     0             0                0             0   \n",
      "2                     0             0                0             0   \n",
      "3                     0             0                0             1   \n",
      "4                     0             0                0             0   \n",
      "\n",
      "   Toxicity/Trust Issues  Regulatory Pressure  Overhype  Years of Operation  \n",
      "0                      0                    0       0.0                  11  \n",
      "1                      0                    0       0.0                   6  \n",
      "2                      0                    0       0.0                   5  \n",
      "3                      0                    0       0.0                  10  \n",
      "4                      0                    0       0.0                   6  \n"
     ]
    }
   ],
   "execution_count": 37
  },
  {
   "metadata": {
    "ExecuteTime": {
     "end_time": "2025-04-08T17:50:34.409145Z",
     "start_time": "2025-04-08T17:50:34.402255Z"
    }
   },
   "cell_type": "code",
   "source": [
    "# Convert Overhype to an integer\n",
    "data['Overhype'] = data['Overhype'].astype(int)\n",
    "# Remove $ and M from How Much They Raised\n",
    "import re\n",
    "\n",
    "def extract_number(text):\n",
    "    if pd.isna(text):\n",
    "        return float('nan')\n",
    "    # Extract the first number in the string (works for cases like \"1.7B (Dropbox)\" or \"0 (SoFi-funded)\")\n",
    "    match = re.search(r'(\\d+\\.?\\d*)', str(text))\n",
    "    if match:\n",
    "        number = float(match.group(1))\n",
    "        # Handle B/M multipliers\n",
    "        if 'B' in text:\n",
    "            number *= 1000  # Convert billions to millions\n",
    "        return number\n",
    "    return float('nan')\n",
    "\n",
    "# Apply the function to clean the column\n",
    "data['How Much They Raised'] = data['How Much They Raised'].apply(extract_number)\n",
    "\n",
    "print(data.head(5))"
   ],
   "id": "16f22dc90b190e0d",
   "outputs": [
    {
     "name": "stdout",
     "output_type": "stream",
     "text": [
      "                  Sector  How Much They Raised  Giants  No Budget  \\\n",
      "0  Finance and Insurance                 655.0       1          1   \n",
      "1  Finance and Insurance                   2.0       1          0   \n",
      "2  Finance and Insurance                   3.0       1          0   \n",
      "3  Finance and Insurance                 500.0       1          0   \n",
      "4  Finance and Insurance                  11.0       1          0   \n",
      "\n",
      "   Competition  Poor Market Fit  Acquisition Stagnation  Platform Dependency  \\\n",
      "0            1                0                       0                    0   \n",
      "1            1                1                       0                    0   \n",
      "2            1                0                       1                    0   \n",
      "3            1                0                       0                    0   \n",
      "4            1                0                       1                    0   \n",
      "\n",
      "   Monetization Failure  Niche Limits  Execution Flaws  Trend Shifts  \\\n",
      "0                     0             0                0             0   \n",
      "1                     0             0                0             0   \n",
      "2                     0             0                0             0   \n",
      "3                     0             0                0             1   \n",
      "4                     0             0                0             0   \n",
      "\n",
      "   Toxicity/Trust Issues  Regulatory Pressure  Overhype  Years of Operation  \n",
      "0                      0                    0         0                  11  \n",
      "1                      0                    0         0                   6  \n",
      "2                      0                    0         0                   5  \n",
      "3                      0                    0         0                  10  \n",
      "4                      0                    0         0                   6  \n"
     ]
    }
   ],
   "execution_count": 38
  },
  {
   "metadata": {
    "ExecuteTime": {
     "end_time": "2025-04-08T17:51:03.664540Z",
     "start_time": "2025-04-08T17:51:03.660665Z"
    }
   },
   "cell_type": "code",
   "source": [
    "label_encoder = LabelEncoder()\n",
    "data[\"Sector\"] = label_encoder.fit_transform(data[\"Sector\"])"
   ],
   "id": "65ea2973954ff036",
   "outputs": [],
   "execution_count": 39
  },
  {
   "metadata": {},
   "cell_type": "markdown",
   "source": [
    "3. Use the sample code for the Ensemble classifier and modify it to work with the Startup\n",
    "dataset."
   ],
   "id": "9782253c746f26d2"
  },
  {
   "metadata": {},
   "cell_type": "code",
   "outputs": [],
   "execution_count": null,
   "source": "",
   "id": "96f1785e162ee6"
  }
 ],
 "metadata": {
  "kernelspec": {
   "display_name": "Python 3",
   "language": "python",
   "name": "python3"
  },
  "language_info": {
   "codemirror_mode": {
    "name": "ipython",
    "version": 2
   },
   "file_extension": ".py",
   "mimetype": "text/x-python",
   "name": "python",
   "nbconvert_exporter": "python",
   "pygments_lexer": "ipython2",
   "version": "2.7.6"
  }
 },
 "nbformat": 4,
 "nbformat_minor": 5
}
