{
 "cells": [
  {
   "metadata": {},
   "cell_type": "markdown",
   "source": [
    "# Final Notebook\n",
    "# Created by: [Aaron Ooi, Viet Nguyen, Trevor Mathisen]"
   ],
   "id": "36ffc227b55e8496"
  },
  {
   "metadata": {},
   "cell_type": "markdown",
   "source": "### Imports and setup",
   "id": "15332ee873c0d243"
  },
  {
   "metadata": {
    "ExecuteTime": {
     "end_time": "2025-05-07T23:03:08.746769Z",
     "start_time": "2025-05-07T23:03:07.685536Z"
    }
   },
   "cell_type": "code",
   "source": [
    "final_models = [] # Add your final models here as a tuple of ('name', model)) for Part 3\n",
    "%load_ext cuml.accel"
   ],
   "id": "f0f508524da4fb84",
   "outputs": [
    {
     "name": "stdout",
     "output_type": "stream",
     "text": [
      "cuML: Could not enable managed memory.\n",
      "cuML: Installed accelerator for sklearn.\n",
      "cuML: Successfully initialized accelerator.\n"
     ]
    }
   ],
   "execution_count": 1
  },
  {
   "metadata": {
    "ExecuteTime": {
     "end_time": "2025-05-07T23:03:09.849560Z",
     "start_time": "2025-05-07T23:03:08.809224Z"
    }
   },
   "cell_type": "code",
   "source": [
    "import matplotlib.pyplot as plt\n",
    "import seaborn as sns\n",
    "import statsmodels.api as sm\n",
    "import tensorflow as tf\n",
    "\n",
    "from numpy import ndarray, argsort, set_printoptions, argmax, isnan, nan, mean, random\n",
    "\n",
    "from pandas import set_option, read_csv, DataFrame, concat, Series\n",
    "from pandas.plotting import scatter_matrix\n",
    "\n",
    "from sklearn.model_selection import train_test_split, cross_val_score, cross_val_predict, KFold, GridSearchCV\n",
    "from sklearn.preprocessing import OneHotEncoder, StandardScaler, Normalizer\n",
    "from sklearn.feature_selection import SelectKBest, f_regression, RFE\n",
    "from sklearn.linear_model import LinearRegression\n",
    "from sklearn.ensemble import RandomForestClassifier, RandomForestRegressor, BaggingClassifier, AdaBoostClassifier\n",
    "from sklearn.tree import DecisionTreeClassifier, plot_tree\n",
    "from sklearn.svm import SVC\n",
    "from sklearn.metrics import accuracy_score, classification_report, confusion_matrix, roc_curve, f1_score, roc_auc_score, mean_squared_error, r2_score\n",
    "from sklearn.metrics import auc as auc_score\n",
    "from sklearn.compose import ColumnTransformer\n",
    "from sklearn.pipeline import Pipeline\n",
    "\n",
    "#from cuml.svm import SVC\n",
    "# Timing\n",
    "\n"
   ],
   "id": "8a062c946ac9dc94",
   "outputs": [
    {
     "name": "stderr",
     "output_type": "stream",
     "text": [
      "2025-05-07 16:03:09.040710: I tensorflow/core/util/port.cc:153] oneDNN custom operations are on. You may see slightly different numerical results due to floating-point round-off errors from different computation orders. To turn them off, set the environment variable `TF_ENABLE_ONEDNN_OPTS=0`.\n",
      "2025-05-07 16:03:09.047767: E external/local_xla/xla/stream_executor/cuda/cuda_fft.cc:467] Unable to register cuFFT factory: Attempting to register factory for plugin cuFFT when one has already been registered\n",
      "WARNING: All log messages before absl::InitializeLog() is called are written to STDERR\n",
      "E0000 00:00:1746658989.054605   61608 cuda_dnn.cc:8579] Unable to register cuDNN factory: Attempting to register factory for plugin cuDNN when one has already been registered\n",
      "E0000 00:00:1746658989.056619   61608 cuda_blas.cc:1407] Unable to register cuBLAS factory: Attempting to register factory for plugin cuBLAS when one has already been registered\n",
      "W0000 00:00:1746658989.065950   61608 computation_placer.cc:177] computation placer already registered. Please check linkage and avoid linking the same target more than once.\n",
      "W0000 00:00:1746658989.065958   61608 computation_placer.cc:177] computation placer already registered. Please check linkage and avoid linking the same target more than once.\n",
      "W0000 00:00:1746658989.065959   61608 computation_placer.cc:177] computation placer already registered. Please check linkage and avoid linking the same target more than once.\n",
      "W0000 00:00:1746658989.065960   61608 computation_placer.cc:177] computation placer already registered. Please check linkage and avoid linking the same target more than once.\n",
      "2025-05-07 16:03:09.069451: I tensorflow/core/platform/cpu_feature_guard.cc:210] This TensorFlow binary is optimized to use available CPU instructions in performance-critical operations.\n",
      "To enable the following instructions: AVX2 AVX512F AVX512_VNNI AVX512_BF16 AVX_VNNI FMA, in other operations, rebuild TensorFlow with the appropriate compiler flags.\n"
     ]
    }
   ],
   "execution_count": 2
  },
  {
   "metadata": {},
   "cell_type": "markdown",
   "source": "### Model 4: Support Vector Machines",
   "id": "647885134a694476"
  },
  {
   "metadata": {
    "ExecuteTime": {
     "end_time": "2025-05-07T23:03:10.401841Z",
     "start_time": "2025-05-07T23:03:09.857159Z"
    }
   },
   "cell_type": "code",
   "source": [
    "from sklearn.metrics import auc as auc_score\n",
    "from perform_kickstarer_eda import X_train, X_test, y_train, y_test\n",
    "# TODO: REMOVE, ITS ALREADY ABOVEW"
   ],
   "id": "64477ecad8867516",
   "outputs": [
    {
     "name": "stdout",
     "output_type": "stream",
     "text": [
      "ks_data shape: (20632, 68)\n",
      "Categorical columns: ['country', 'currency', 'deadline', 'state_changed_at', 'created_at', 'launched_at', 'category', 'deadline_weekday', 'state_changed_at_weekday', 'created_at_weekday', 'launched_at_weekday', 'launch_to_deadline', 'launch_to_state_change']\n",
      "Converted boolean column: staff_pick\n",
      "Dropped 'state_changed_at_weekday' column\n",
      "Dropping original column: category\n",
      "Encoded column: category → 25 features\n",
      "Dropping original column: deadline_weekday\n",
      "Encoded column: deadline_weekday → 7 features\n",
      "Dropping original column: created_at_weekday\n",
      "Encoded column: created_at_weekday → 7 features\n",
      "Dropping original column: launched_at_weekday\n",
      "Encoded column: launched_at_weekday → 7 features\n",
      "Total categorical columns after encoding: 54\n"
     ]
    }
   ],
   "execution_count": 3
  },
  {
   "metadata": {
    "ExecuteTime": {
     "end_time": "2025-05-07T23:20:49.461608222Z",
     "start_time": "2025-05-07T23:03:10.415561Z"
    }
   },
   "cell_type": "code",
   "source": [
    "from cuml.svm import SVC as cuSVC\n",
    "from sklearn.model_selection import KFold\n",
    "from sklearn.metrics import f1_score, roc_curve\n",
    "from sklearn.metrics import auc as auc_score\n",
    "import numpy as np\n",
    "import matplotlib.pyplot as plt\n",
    "import cudf\n",
    "from cuml.metrics import accuracy_score\n",
    "import cupy as cp\n",
    "\n",
    "def evaluate_svc_models_rapids(models, X, y):\n",
    "    results = []\n",
    "    names = []\n",
    "\n",
    "    # Convert to GPU if needed (assuming X and y are numpy arrays)\n",
    "    X_gpu = cudf.DataFrame(X) if not isinstance(X, cudf.DataFrame) else X\n",
    "    y_gpu = cudf.Series(y) if not isinstance(y, cudf.Series) else y\n",
    "\n",
    "    for name, _ in models:\n",
    "        print(f\"Tuning hyperparameters for: {name}\")\n",
    "        kfold = KFold(n_splits=10, shuffle=True, random_state=42)\n",
    "\n",
    "        if name == 'SVC_RBF':\n",
    "            param_grid = {\n",
    "                'C': [0.1, 1, 10],\n",
    "                'gamma': ['scale', 'auto', 0.01, 0.1]\n",
    "            }\n",
    "            # cuML SVC doesn't use 'probability' parameter like sklearn\n",
    "            model = cuSVC(kernel='rbf')\n",
    "        elif name == 'SVC_POLY':\n",
    "            param_grid = {\n",
    "                'C': [0.1, 1, 10],\n",
    "                'degree': [2, 3, 4],\n",
    "                'gamma': ['scale', 'auto']\n",
    "            }\n",
    "            model = cuSVC(kernel='poly')\n",
    "        elif name == 'SVC_LINEAR':\n",
    "            param_grid = {\n",
    "                'C': [0.1, 1, 10],\n",
    "                'tol': [1e-4, 1e-3]\n",
    "            }\n",
    "            model = cuSVC(kernel='linear')\n",
    "        elif name == 'SVC_SIGMOID':\n",
    "            param_grid = {\n",
    "                'C': [0.1, 1, 10],\n",
    "                'gamma': ['scale', 'auto']\n",
    "            }\n",
    "            model = cuSVC(kernel='sigmoid')\n",
    "        else:\n",
    "            continue\n",
    "\n",
    "        # Manual grid search for cuML SVC (since GridSearchCV isn't directly compatible)\n",
    "        best_score = 0\n",
    "        best_params = {}\n",
    "        best_model = None\n",
    "\n",
    "        # Generate parameter combinations\n",
    "        param_combinations = []\n",
    "        for param_name, param_values in param_grid.items():\n",
    "            if not param_combinations:\n",
    "                param_combinations = [{param_name: value} for value in param_values]\n",
    "            else:\n",
    "                new_combinations = []\n",
    "                for combo in param_combinations:\n",
    "                    for value in param_values:\n",
    "                        new_combo = combo.copy()\n",
    "                        new_combo[param_name] = value\n",
    "                        new_combinations.append(new_combo)\n",
    "                param_combinations = new_combinations\n",
    "\n",
    "        # Perform manual grid search with cross-validation\n",
    "        for params in param_combinations:\n",
    "            current_model = cuSVC(kernel=model.kernel, **params)\n",
    "            fold_scores = []\n",
    "\n",
    "            for train_idx, val_idx in kfold.split(X):\n",
    "                # Extract folds (using numpy indices works with cuDF)\n",
    "                X_train_fold = X_gpu.iloc[train_idx]\n",
    "                y_train_fold = y_gpu.iloc[train_idx]\n",
    "                X_val_fold = X_gpu.iloc[val_idx]\n",
    "                y_val_fold = y_gpu.iloc[val_idx]\n",
    "\n",
    "                # Train and evaluate\n",
    "                current_model.fit(X_train_fold, y_train_fold)\n",
    "                y_pred = current_model.predict(X_val_fold)\n",
    "                score = accuracy_score(y_val_fold, y_pred)\n",
    "                fold_scores.append(score)\n",
    "\n",
    "            # Calculate mean score across folds\n",
    "            mean_score = sum(fold_scores) / len(fold_scores)\n",
    "\n",
    "            # Update best model if this one is better\n",
    "            if mean_score > best_score:\n",
    "                best_score = mean_score\n",
    "                best_params = params\n",
    "                best_model = current_model\n",
    "\n",
    "        # Train best model on full dataset\n",
    "        best_model = cuSVC(kernel=model.kernel, **best_params)\n",
    "        best_model.fit(X_gpu, y_gpu)\n",
    "\n",
    "        print(f\"Best params for {name}: {best_params}\")\n",
    "        print(f\"Best CV accuracy: {best_score:.4f}\")\n",
    "\n",
    "        # For metrics, convert predictions back to numpy for sklearn compatibility\n",
    "        # Manual cross-validation for F1 score\n",
    "        y_pred_list = []\n",
    "        y_true_list = []\n",
    "\n",
    "        # Temporary workaround for ROC since cuML SVC doesn't have predict_proba\n",
    "        # We'll use decision_function instead which gives distance from hyperplane\n",
    "        decision_scores_list = []\n",
    "\n",
    "        for train_idx, val_idx in kfold.split(X):\n",
    "            X_train_fold = X_gpu.iloc[train_idx]\n",
    "            y_train_fold = y_gpu.iloc[train_idx]\n",
    "            X_val_fold = X_gpu.iloc[val_idx]\n",
    "            y_val_fold = y_gpu.iloc[val_idx]\n",
    "\n",
    "            fold_model = cuSVC(kernel=model.kernel, **best_params)\n",
    "            fold_model.fit(X_train_fold, y_train_fold)\n",
    "\n",
    "            y_pred = fold_model.predict(X_val_fold)\n",
    "\n",
    "            # Use decision_function instead of predict_proba for ROC curve\n",
    "            decision_scores = fold_model.decision_function(X_val_fold)\n",
    "\n",
    "            # Handle different return types (cuDF Series/DataFrame or numpy array)\n",
    "            if hasattr(y_pred, 'to_numpy'):\n",
    "                y_pred_list.extend(y_pred.to_numpy())\n",
    "            else:\n",
    "                y_pred_list.extend(y_pred)\n",
    "\n",
    "            if hasattr(y_val_fold, 'to_numpy'):\n",
    "                y_true_list.extend(y_val_fold.to_numpy())\n",
    "            else:\n",
    "                y_true_list.extend(y_val_fold)\n",
    "\n",
    "            if hasattr(decision_scores, 'to_numpy'):\n",
    "                decision_scores_list.extend(decision_scores.to_numpy())\n",
    "            else:\n",
    "                decision_scores_list.extend(decision_scores)\n",
    "\n",
    "        # Calculate F1 score\n",
    "        f1 = f1_score(np.array(y_true_list), np.array(y_pred_list))\n",
    "        print(f\"F1 Score for {name}: {f1:.4f}\")\n",
    "\n",
    "        # ROC Curve using decision function scores instead of probabilities\n",
    "        fpr, tpr, _ = roc_curve(np.array(y_true_list), np.array(decision_scores_list))\n",
    "        roc_auc = auc_score(fpr, tpr)\n",
    "        plt.plot(fpr, tpr, label=f\"{name} (AUC = {roc_auc:.2f})\")\n",
    "\n",
    "        # Save results for boxplot\n",
    "        cv_results = np.array(fold_scores)\n",
    "        results.append(cv_results)\n",
    "        names.append(name)\n",
    "\n",
    "        print(f\"F1 Score: {f1:.4f} | AUC: {roc_auc:.4f}\")\n",
    "\n",
    "    # Plot results\n",
    "    fig = plt.figure()\n",
    "    fig.suptitle('Tuned cuML SVC Model Comparison')\n",
    "    ax = fig.add_subplot(111)\n",
    "    plt.boxplot(results, labels=names)\n",
    "    ax.set_ylabel('Accuracy')\n",
    "    plt.show()\n",
    "\n",
    "    return results, names\n",
    "\n",
    "# Define models\n",
    "models = [('SVC_RBF', None), ('SVC_POLY', None), ('SVC_LINEAR', None), ('SVC_SIGMOID', None)]\n",
    "\n",
    "# Run evaluation\n",
    "evaluate_svc_models_rapids(models, X_train, y_train)"
   ],
   "id": "7d19cc33219e49ff",
   "outputs": [
    {
     "name": "stdout",
     "output_type": "stream",
     "text": [
      "Tuning hyperparameters for: SVC_RBF\n",
      "Best params for SVC_RBF: {'C': 10, 'gamma': 0.01}\n",
      "Best CV accuracy: 0.8031\n",
      "F1 Score for SVC_RBF: 0.6100\n",
      "F1 Score: 0.6100 | AUC: 0.8562\n",
      "Tuning hyperparameters for: SVC_POLY\n",
      "Best params for SVC_POLY: {'C': 10, 'degree': 3, 'gamma': 'scale'}\n",
      "Best CV accuracy: 0.8010\n",
      "F1 Score for SVC_POLY: 0.6126\n",
      "F1 Score: 0.6126 | AUC: 0.8553\n",
      "Tuning hyperparameters for: SVC_LINEAR\n",
      "SVC with the linear kernel can be much faster using the specialized solver provided by LinearSVC. Consider switching to LinearSVC if tranining takes too long.\n"
     ]
    }
   ],
   "execution_count": null
  }
 ],
 "metadata": {
  "kernelspec": {
   "display_name": "Python 3",
   "language": "python",
   "name": "python3"
  },
  "language_info": {
   "codemirror_mode": {
    "name": "ipython",
    "version": 2
   },
   "file_extension": ".py",
   "mimetype": "text/x-python",
   "name": "python",
   "nbconvert_exporter": "python",
   "pygments_lexer": "ipython2",
   "version": "2.7.6"
  }
 },
 "nbformat": 4,
 "nbformat_minor": 5
}
