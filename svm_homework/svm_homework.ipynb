{
 "cells": [
  {
   "metadata": {},
   "cell_type": "raw",
   "source": [
    "# Worked with:\n",
    "\n",
    "## Trevor Mathisen\n",
    "## Viet Nguyen"
   ],
   "id": "a3c0f3cf6359c17"
  },
  {
   "metadata": {
    "ExecuteTime": {
     "end_time": "2025-04-11T15:46:55.192319Z",
     "start_time": "2025-04-11T15:46:55.189855Z"
    }
   },
   "cell_type": "code",
   "source": [
    "from numpy import set_printoptions, logspace, mean, std\n",
    "import matplotlib.pyplot as plt\n",
    "import pandas as pd\n",
    "from pandas import set_option\n",
    "from pandas import read_csv\n",
    "from pandas.plotting import scatter_matrix\n",
    "\n",
    "from sklearn.preprocessing import StandardScaler, Normalizer, LabelEncoder\n",
    "from sklearn.model_selection import KFold, GridSearchCV, cross_val_score\n",
    "\n",
    "import seaborn as sns\n",
    "\n",
    "from decisiontree_assignment.descisionTree_hw_baseball_CMPE188 import X_train"
   ],
   "id": "df7fa920838a33a8",
   "outputs": [],
   "execution_count": 7
  },
  {
   "metadata": {
    "ExecuteTime": {
     "end_time": "2025-04-11T15:46:55.249052Z",
     "start_time": "2025-04-11T15:46:55.236156Z"
    }
   },
   "cell_type": "code",
   "source": [
    "filename = 'wine.csv'\n",
    "# Column names added to csv including 'Class' as the first column/output variable\n",
    "data = read_csv(filename)\n",
    "set_printoptions(precision=3)\n",
    "print(data.head(5))\n",
    "print(data.isnull().sum())\n",
    "print(f'{data.shape[0]} rows and {data.shape[1]} columns')\n",
    "for column in data.columns:\n",
    "    print(column)\n",
    "    print(data[column].unique())"
   ],
   "id": "81a98ec4464545a0",
   "outputs": [
    {
     "name": "stdout",
     "output_type": "stream",
     "text": [
      "   Class  Alcohol  Malic acid   Ash  Alcalinity of ash  Magnesium  \\\n",
      "0      1    14.23        1.71  2.43               15.6        127   \n",
      "1      1    13.20        1.78  2.14               11.2        100   \n",
      "2      1    13.16        2.36  2.67               18.6        101   \n",
      "3      1    14.37        1.95  2.50               16.8        113   \n",
      "4      1    13.24        2.59  2.87               21.0        118   \n",
      "\n",
      "   Total phenols  Flavanoids  Nonflavanoid phenols  Proanthocyanins  \\\n",
      "0           2.80        3.06                  0.28             2.29   \n",
      "1           2.65        2.76                  0.26             1.28   \n",
      "2           2.80        3.24                  0.30             2.81   \n",
      "3           3.85        3.49                  0.24             2.18   \n",
      "4           2.80        2.69                  0.39             1.82   \n",
      "\n",
      "   Color intensity   Hue  OD280/OD315 of diluted wines  Proline  \n",
      "0             5.64  1.04                          3.92     1065  \n",
      "1             4.38  1.05                          3.40     1050  \n",
      "2             5.68  1.03                          3.17     1185  \n",
      "3             7.80  0.86                          3.45     1480  \n",
      "4             4.32  1.04                          2.93      735  \n",
      "Class                           0\n",
      "Alcohol                         0\n",
      "Malic acid                      0\n",
      "Ash                             0\n",
      "Alcalinity of ash               0\n",
      "Magnesium                       0\n",
      "Total phenols                   0\n",
      "Flavanoids                      0\n",
      "Nonflavanoid phenols            0\n",
      "Proanthocyanins                 0\n",
      "Color intensity                 0\n",
      "Hue                             0\n",
      "OD280/OD315 of diluted wines    0\n",
      "Proline                         0\n",
      "dtype: int64\n",
      "178 rows and 14 columns\n",
      "Class\n",
      "[1 2 3]\n",
      "Alcohol\n",
      "[14.23 13.2  13.16 14.37 13.24 14.2  14.39 14.06 14.83 13.86 14.1  14.12\n",
      " 13.75 14.75 14.38 13.63 14.3  13.83 14.19 13.64 12.93 13.71 12.85 13.5\n",
      " 13.05 13.39 13.3  13.87 14.02 13.73 13.58 13.68 13.76 13.51 13.48 13.28\n",
      " 13.07 14.22 13.56 13.41 13.88 14.21 13.9  13.94 13.82 13.77 13.74 13.29\n",
      " 13.72 12.37 12.33 12.64 13.67 12.17 13.11 13.34 12.21 12.29 13.49 12.99\n",
      " 11.96 11.66 13.03 11.84 12.7  12.   12.72 12.08 12.67 12.16 11.65 11.64\n",
      " 12.69 11.62 12.47 11.81 12.6  12.34 11.82 12.51 12.42 12.25 12.22 11.61\n",
      " 11.46 12.52 11.76 11.41 11.03 12.77 11.45 11.56 11.87 12.07 12.43 11.79\n",
      " 12.04 12.86 12.88 12.81 12.53 12.84 13.36 13.52 13.62 12.87 13.32 13.08\n",
      " 12.79 13.23 12.58 13.17 13.84 12.45 14.34 12.36 13.69 12.96 13.78 13.45\n",
      " 12.82 13.4  12.2  14.16 13.27 14.13]\n",
      "Malic acid\n",
      "[1.71 1.78 2.36 1.95 2.59 1.76 1.87 2.15 1.64 1.35 2.16 1.48 1.73 1.81\n",
      " 1.92 1.57 1.59 3.1  1.63 3.8  1.86 1.6  2.05 1.77 1.72 1.9  1.68 1.5\n",
      " 1.66 1.83 1.53 1.8  1.65 3.99 3.84 1.89 3.98 4.04 3.59 2.02 1.75 1.67\n",
      " 1.7  1.97 1.43 0.94 1.1  1.36 1.25 1.13 1.45 1.21 1.01 1.17 1.19 1.61\n",
      " 1.51 1.09 1.88 0.9  2.89 0.99 3.87 0.92 3.86 0.89 0.98 2.06 1.33 2.83\n",
      " 1.99 1.52 2.12 1.41 1.07 3.17 2.08 1.34 2.45 2.55 1.29 3.74 2.43 2.68\n",
      " 0.74 1.39 1.47 3.43 2.4  4.43 5.8  4.31 2.13 4.3  2.99 2.31 3.55 1.24\n",
      " 2.46 4.72 5.51 2.96 2.81 2.56 4.95 3.88 3.57 5.04 4.61 3.24 3.9  3.12\n",
      " 2.67 3.3  5.19 4.12 3.03 3.83 3.26 3.27 3.45 2.76 4.36 3.7  3.37 2.58\n",
      " 4.6  2.39 2.51 5.65 3.91 4.28 4.1 ]\n",
      "Ash\n",
      "[2.43 2.14 2.67 2.5  2.87 2.45 2.61 2.17 2.27 2.3  2.32 2.41 2.39 2.38\n",
      " 2.7  2.72 2.62 2.48 2.56 2.28 2.65 2.36 2.52 3.22 2.8  2.21 2.84 2.55\n",
      " 2.1  2.51 2.31 2.12 2.59 2.29 2.44 2.4  2.04 2.6  2.42 2.68 2.25 2.46\n",
      " 1.36 2.02 1.92 2.16 2.53 1.7  1.75 2.24 1.71 2.23 1.95 2.   2.2  2.58\n",
      " 2.26 2.22 2.74 1.98 1.9  1.88 1.94 1.82 2.92 1.99 2.19 3.23 2.73 2.13\n",
      " 2.78 2.54 2.64 2.35 2.15 2.75 2.69 2.86 2.37]\n",
      "Alcalinity of ash\n",
      "[15.6 11.2 18.6 16.8 21.  15.2 14.6 17.6 14.  16.  18.  11.4 12.  17.2\n",
      " 20.  16.5 16.6 17.8 25.  16.1 17.  19.4 22.5 19.1 19.5 19.  20.5 15.5\n",
      " 13.2 16.2 18.8 15.  17.5 18.9 17.4 12.4 17.1 16.4 16.3 16.7 10.6 18.1\n",
      " 19.6 20.4 24.  30.  14.8 23.  22.8 26.  21.6 23.6 18.5 22.  20.7 21.5\n",
      " 20.8 28.5 26.5 24.5 23.5 25.5 27. ]\n",
      "Magnesium\n",
      "[127 100 101 113 118 112  96 121  97  98 105  95  89  91 102 120 115 108\n",
      " 116 126 124  93  94 107 106 104 132 110 128 117  90 103 111  92  88  87\n",
      "  78 151  86 139 136  85  99  84  70  81  80 162 134 119  82 122 123]\n",
      "Total phenols\n",
      "[2.8  2.65 3.85 3.27 2.5  2.6  2.98 2.95 2.2  3.1  3.3  2.85 2.7  3.\n",
      " 2.41 2.61 2.48 2.53 2.63 2.4  2.86 2.42 2.35 2.45 3.15 3.25 2.64 2.75\n",
      " 2.88 2.72 3.88 2.96 3.2  3.4  1.98 2.05 2.02 2.1  3.5  1.89 2.11 1.85\n",
      " 1.1  1.88 3.38 1.61 1.95 1.72 1.9  2.83 2.   1.65 1.78 1.92 1.6  1.45\n",
      " 1.38 3.02 2.55 3.52 2.23 2.56 1.68 2.36 2.74 3.18 1.75 2.46 1.63 2.9\n",
      " 2.62 2.13 2.22 1.51 1.3  1.15 1.7  1.62 1.79 2.32 1.54 1.4  1.55 1.5\n",
      " 0.98 1.93 1.41 1.48 1.8  1.74 2.3  1.83 1.39 1.35 1.28 1.25 1.59]\n",
      "Flavanoids\n",
      "[3.06 2.76 3.24 3.49 2.69 3.39 2.52 2.51 2.98 3.15 3.32 2.43 3.69 3.64\n",
      " 2.91 3.14 3.4  3.93 3.03 3.17 2.41 2.88 2.37 2.61 2.68 2.94 2.19 2.97\n",
      " 2.33 3.25 3.19 2.74 2.53 2.64 3.04 3.29 3.56 2.63 3.   2.65 2.92 3.54\n",
      " 3.27 2.99 3.74 2.79 2.9  2.78 3.23 3.67 0.57 1.09 1.41 1.79 3.1  1.75\n",
      " 3.18 2.   1.3  1.28 1.02 2.86 1.84 2.89 2.14 1.57 2.03 1.32 1.85 2.55\n",
      " 2.26 1.58 1.59 2.21 1.94 1.69 1.61 1.5  1.25 1.46 2.25 2.27 0.99 2.5\n",
      " 3.75 2.17 1.36 2.11 1.64 1.92 1.76 2.04 2.58 2.01 2.29 1.6  2.09 5.08\n",
      " 2.13 2.24 2.45 1.22 1.2  0.58 0.66 0.47 0.6  0.48 0.5  0.52 0.8  0.78\n",
      " 0.55 0.34 0.65 0.76 1.39 0.83 0.63 1.31 1.1  0.92 0.56 0.7  0.68 0.84\n",
      " 0.96 0.49 0.51 0.61 0.75 0.69]\n",
      "Nonflavanoid phenols\n",
      "[0.28 0.26 0.3  0.24 0.39 0.34 0.31 0.29 0.22 0.43 0.33 0.4  0.32 0.17\n",
      " 0.25 0.27 0.47 0.37 0.42 0.5  0.2  0.21 0.19 0.63 0.53 0.45 0.55 0.14\n",
      " 0.13 0.35 0.61 0.48 0.52 0.58 0.66 0.6  0.41 0.44 0.56]\n",
      "Proanthocyanins\n",
      "[2.29 1.28 2.81 2.18 1.82 1.97 1.98 1.25 1.85 2.38 1.57 1.81 2.96 1.46\n",
      " 1.72 1.86 1.66 2.1  1.69 1.92 1.45 1.35 1.76 1.95 1.54 1.36 1.44 1.37\n",
      " 2.08 2.34 1.48 1.7  2.03 2.19 2.14 2.91 1.87 1.68 1.62 2.45 2.04 0.42\n",
      " 0.41 0.62 0.73 1.03 2.28 1.04 2.5  1.96 1.65 1.15 0.95 2.76 1.43 1.77\n",
      " 1.4  2.35 1.56 1.34 1.38 1.64 1.63 1.99 3.28 1.31 1.42 2.49 3.58 1.22\n",
      " 1.05 2.01 1.53 1.61 0.83 1.83 1.71 1.9  0.94 0.84 0.8  1.1  0.88 0.81\n",
      " 0.75 0.64 0.55 1.02 1.14 1.3  0.68 0.86 1.26 1.55 2.7  0.96 0.97 1.11\n",
      " 1.24 1.06 1.41]\n",
      "Color intensity\n",
      "[ 5.64  4.38  5.68  7.8   4.32  6.75  5.25  5.05  5.2   7.22  5.75  5.\n",
      "  5.6   5.4   7.5   7.3   6.2   6.6   8.7   5.1   5.65  4.5   3.8   3.93\n",
      "  3.52  3.58  4.8   3.95  4.7   5.7   6.9   3.84  4.2   4.6   4.25  3.7\n",
      "  6.13  4.28  5.43  4.36  5.04  5.24  4.9   6.1   8.9   7.2   7.05  6.3\n",
      "  5.85  6.25  6.38  6.    6.8   1.95  3.27  4.45  2.95  5.3   4.68  3.17\n",
      "  2.85  3.05  3.38  3.74  3.35  3.21  2.65  3.4   2.57  2.5   3.9   2.2\n",
      "  2.62  2.45  2.6   2.8   1.74  2.4   3.6   2.15  3.25  2.9   2.3   3.3\n",
      "  2.06  2.94  2.7   2.    3.08  1.9   1.28  2.08  2.76  3.94  3.    2.12\n",
      "  4.1   5.45  7.1   3.85  4.92  4.35  4.4   8.21  4.    7.65  8.42  9.4\n",
      "  8.6  10.8  10.52  7.6   7.9   9.01 13.   11.75  5.88  5.58  5.28  9.58\n",
      "  6.62 10.68 10.26  8.66  8.5   5.5   9.9   9.7   7.7  10.2   9.3   9.2 ]\n",
      "Hue\n",
      "[1.04  1.05  1.03  0.86  1.02  1.06  1.08  1.01  1.25  1.17  1.15  1.2\n",
      " 1.28  1.07  1.13  1.23  0.96  1.09  1.11  1.12  0.92  1.19  1.1   1.18\n",
      " 0.89  0.95  0.91  0.88  0.82  0.87  1.24  0.98  0.94  1.22  1.45  0.906\n",
      " 1.36  1.31  0.99  1.38  1.16  0.84  0.79  1.33  1.    1.42  1.27  0.8\n",
      " 0.75  0.9   0.93  1.71  0.7   0.73  0.69  0.97  0.76  0.74  0.66  0.78\n",
      " 0.81  0.77  0.65  0.6   0.58  0.54  0.55  0.57  0.59  0.48  0.61  0.56\n",
      " 0.67  0.68  0.85  0.72  0.62  0.64 ]\n",
      "OD280/OD315 of diluted wines\n",
      "[3.92 3.4  3.17 3.45 2.93 2.85 3.58 3.55 2.82 2.9  2.73 3.   2.88 2.65\n",
      " 2.57 3.36 3.71 3.52 4.   3.63 3.82 3.2  3.22 2.77 3.59 2.71 2.87 3.47\n",
      " 2.78 2.51 2.69 3.53 3.38 3.56 3.35 3.33 3.44 2.75 3.1  2.91 3.37 3.26\n",
      " 3.03 3.31 2.84 1.82 1.67 1.59 2.46 2.23 2.3  3.18 3.48 1.93 3.07 3.16\n",
      " 3.5  3.13 2.14 2.48 2.52 2.31 3.12 3.14 2.72 2.01 3.08 2.26 3.21 2.27\n",
      " 2.06 3.3  2.96 2.63 2.74 2.83 2.44 3.57 2.42 3.02 2.81 2.5  3.19 2.12\n",
      " 3.05 3.39 3.69 3.64 3.28 1.29 1.42 1.36 1.51 1.58 1.27 1.69 2.15 2.47\n",
      " 2.05 2.   1.68 1.33 1.86 1.62 1.3  1.47 1.55 1.48 1.64 1.73 1.96 1.78\n",
      " 2.11 1.75 1.56 1.8  1.92 1.83 1.63 1.71 1.74 1.6 ]\n",
      "Proline\n",
      "[1065 1050 1185 1480  735 1450 1290 1295 1045 1510 1280 1320 1150 1547\n",
      " 1310 1130 1680  845  780  770 1035 1015  830 1195 1285  915 1515  990\n",
      " 1235 1095  920  880 1105 1020  760  795  680  885 1080  985 1060 1260\n",
      " 1265 1190 1375 1120  970 1270  520  450  630  420  355  678  502  510\n",
      "  750  718  870  410  472  886  428  392  500  463  278  714  515  495\n",
      "  562  625  480  290  345  937  660  406  710  438  415  672  315  488\n",
      "  312  325  607  434  385  407  372  564  465  365  380  378  352  466\n",
      "  342  580  530  560  600  650  695  720  590  550  855  425  675  640\n",
      "  725  620  570  615  685  470  740  835  840]\n"
     ]
    }
   ],
   "execution_count": 8
  },
  {
   "metadata": {
    "ExecuteTime": {
     "end_time": "2025-04-11T15:46:55.289905Z",
     "start_time": "2025-04-11T15:46:55.288016Z"
    }
   },
   "cell_type": "code",
   "source": "",
   "id": "36cd8304192af2bf",
   "outputs": [],
   "execution_count": null
  },
  {
   "metadata": {},
   "cell_type": "markdown",
   "source": [
    "Use the Wine dataset (check under ML dataset Module on Canvas) and add an SV\n",
    "Classifier(SVC), a random forest classifier with a depth of 2 and an Adaboost classifier\n",
    "and compare them using kfold cross validation with k=10. For the SVC, use the default\n",
    "settings given in the sample code, use RFB kernel with C = 1.0"
   ],
   "id": "ae9b0e91a220234e"
  },
  {
   "metadata": {},
   "cell_type": "raw",
   "source": [
    "def data_info(_data):\n",
    "    print(_data.describe())\n",
    "    _data.hist()\n",
    "    plt.tight_layout()\n",
    "    plt.show()\n",
    "    plt.figure() # new plot\n",
    "    plt.tight_layout()\n",
    "    corMat = _data.corr(method='pearson')\n",
    "    print(corMat)\n",
    "    ## plot correlation matrix as a heat map\n",
    "    sns.heatmap(corMat, square=True)\n",
    "    plt.yticks(rotation=0)\n",
    "    plt.xticks(rotation=90)\n",
    "    plt.title(f\"CORRELATION MATRIX USING HEAT MAP\")\n",
    "    plt.show()\n",
    "\n",
    "    ## scatter plot of all _data\n",
    "    plt.figure()\n",
    "    # # The output overlaps itself, resize it to display better (w padding)\n",
    "    scatter_matrix(_data)\n",
    "    plt.tight_layout(pad=0.1)\n",
    "    plt.show()\n",
    "data_info(data)"
   ],
   "id": "21be27e991b32aaa"
  },
  {
   "metadata": {
    "ExecuteTime": {
     "end_time": "2025-04-11T15:46:55.339238Z",
     "start_time": "2025-04-11T15:46:55.333888Z"
    }
   },
   "cell_type": "code",
   "source": [
    "# Standardize as all are continuous variables and appear mostly guassian\n",
    "Y1 = data['Class']\n",
    "data_stand = data.copy()\n",
    "X1_stand = data.drop(columns=['Class'])\n",
    "X1_stand = StandardScaler().fit(X1_stand).transform(X1_stand)"
   ],
   "id": "aa8ba2a683908a6a",
   "outputs": [],
   "execution_count": 9
  },
  {
   "metadata": {
    "ExecuteTime": {
     "end_time": "2025-04-11T15:46:55.387024Z",
     "start_time": "2025-04-11T15:46:55.383575Z"
    }
   },
   "cell_type": "code",
   "source": [
    "from matplotlib import pyplot\n",
    "\n",
    "def evaluate_each_model_in_turn(models, X, Y):\n",
    "    results = []\n",
    "    names = []\n",
    "    scoring = 'accuracy'\n",
    "    for name, model in models:\n",
    "        kfold = KFold(n_splits=10, random_state=7, shuffle=True)\n",
    "        cv_results = cross_val_score(model, X, Y, cv=kfold, scoring=scoring)\n",
    "        results.append(cv_results)\n",
    "        names.append(name)\n",
    "        msg = \"%s: %f (%f)\" % (name, cv_results.mean(), cv_results.std())\n",
    "        print(msg)\n",
    "    ## boxplot algorithm comparison\n",
    "    fig = pyplot.figure()\n",
    "    fig.suptitle('Algorithm Comparison')\n",
    "    ax = fig.add_subplot(111)\n",
    "    pyplot.boxplot(results)\n",
    "    ax.set_xticklabels(names)\n",
    "    pyplot.show()"
   ],
   "id": "3ee361067ab1429e",
   "outputs": [],
   "execution_count": 10
  },
  {
   "metadata": {
    "ExecuteTime": {
     "end_time": "2025-04-11T15:56:48.391805Z",
     "start_time": "2025-04-11T15:56:46.326813Z"
    }
   },
   "cell_type": "code",
   "source": [
    "# add an SV Classifier(SVC), a random forest classifier with a depth of 2 and an Adaboost\n",
    "# classifier and compare them using kfold cross validation with k=10. For the SVC, use\n",
    "# the default settings given in the sample code, use RFB kernel with C = 1.0\n",
    "models = []\n",
    "from sklearn.ensemble import RandomForestClassifier, AdaBoostClassifier\n",
    "from sklearn.svm import SVC\n",
    "svc_model = ('SVC', SVC(kernel='rbf', C=1.0, random_state=1))\n",
    "models.append(svc_model)\n",
    "models.append(('Random Forest', RandomForestClassifier(max_depth=2, random_state=1)))\n",
    "models.append(('AdaBoost', AdaBoostClassifier(n_estimators=100, random_state=1)))\n",
    "\n",
    "from sklearn.model_selection import train_test_split\n",
    "X_train, X_test, Y_train, Y_test = train_test_split(X1_stand, Y1, test_size=0.2)\n",
    "\n",
    "# fit all models\n",
    "accuracy_dict = {}\n",
    "for name, model in models:\n",
    "    model.fit(X_train, Y_train)\n",
    "    y_pred = model.predict(X_test)\n",
    "    accuracy = model.score(X_test, Y_test)\n",
    "    accuracy_dict[name] = accuracy\n",
    "    print(f\"{name} Accuracy: {accuracy:.4f}\")\n",
    "\n",
    "evaluate_each_model_in_turn(models, X_train, Y_train)"
   ],
   "id": "a03e98bf1d674f0",
   "outputs": [
    {
     "name": "stdout",
     "output_type": "stream",
     "text": [
      "SVC Accuracy: 1.0000\n",
      "Random Forest Accuracy: 1.0000\n",
      "AdaBoost Accuracy: 0.9444\n",
      "SVC: 0.978571 (0.045737)\n",
      "Random Forest: 0.964286 (0.047916)\n",
      "AdaBoost: 0.957143 (0.057143)\n"
     ]
    },
    {
     "data": {
      "text/plain": [
       "<Figure size 640x480 with 1 Axes>"
      ],
      "image/png": "[encoded data removed]"
     },
     "metadata": {},
     "output_type": "display_data"
    }
   ],
   "execution_count": 19
  },
  {
   "metadata": {
    "ExecuteTime": {
     "end_time": "2025-04-11T15:52:56.804559Z",
     "start_time": "2025-04-11T15:52:56.714469Z"
    }
   },
   "cell_type": "code",
   "source": [
    "# Polynomial kernel with kernel degree 2\n",
    "poly_svc_model = ('Poly SVC', SVC(kernel='poly', degree=2, C=1.0, random_state=1))\n",
    "compare_svc_models = [svc_model, poly_svc_model]\n",
    "evaluate_each_model_in_turn(compare_svc_models, X_train, Y_train)"
   ],
   "id": "646361f0fb7b61aa",
   "outputs": [
    {
     "name": "stdout",
     "output_type": "stream",
     "text": [
      "SVC: 0.985714 (0.028571)\n",
      "Poly SVC: 0.894286 (0.071200)\n"
     ]
    },
    {
     "data": {
      "text/plain": [
       "<Figure size 640x480 with 1 Axes>"
      ],
      "image/png": "[encoded data removed]"
     },
     "metadata": {},
     "output_type": "display_data"
    }
   ],
   "execution_count": 14
  },
  {
   "metadata": {
    "ExecuteTime": {
     "end_time": "2025-04-11T15:57:38.310790Z",
     "start_time": "2025-04-11T15:57:38.278419Z"
    }
   },
   "cell_type": "code",
   "source": [
    "models.append(poly_svc_model)\n",
    "# Plot the multi-class ROC curve and use the roc_auc_score function to calculate ROC\n",
    "# AUC for each class.\n",
    "from sklearn.metrics import roc_curve, roc_auc_score\n",
    "\n",
    "y_scores_dict = {}\n",
    "for name, model in models:\n",
    "    y_scores = model.predict_proba(X_test)\n",
    "    y_scores_dict[name] = y_scores\n",
    "    print(f\"{name} ROC AUC Score: {roc_auc_score(Y_test, y_scores[:, 1]):.4f}\")\n",
    "\n",
    "# plot roc_curve\n",
    "def plot_roc_curve(fpr, tpr, label=None):\n",
    "    plt.plot(fpr, tpr, linewidth=2, label=label)\n",
    "    plt.plot([0, 1], [0, 1], 'k--')\n",
    "    plt.axis([0, 1, 0, 1])\n",
    "    plt.xlabel('False Positive Rate')\n",
    "    plt.ylabel('True Positive Rate')\n",
    "    plt.title(\"ROC Curve\")\n",
    "    plt.figure()\n",
    "    plot_roc_curve(fpr, tpr)\n",
    "    plt.show()\n",
    "\n",
    "def calculate_roc_auc_score(y_true, y_score):\n",
    "    return roc_auc_score(y_true, y_score)\n",
    "\n",
    "# plotting the ROC curve for each class and display the AUC score below\n",
    "fpr, tpr, thresholds = roc_curve(Y_test, y_scores[:, 1], pos_label=1)\n",
    "plot_roc_curve(fpr, tpr, label='SVC')"
   ],
   "id": "682a6d55c937585a",
   "outputs": [
    {
     "ename": "AttributeError",
     "evalue": "This 'SVC' has no attribute 'predict_proba'",
     "output_type": "error",
     "traceback": [
      "\u001B[0;31m---------------------------------------------------------------------------\u001B[0m",
      "\u001B[0;31mAttributeError\u001B[0m                            Traceback (most recent call last)",
      "File \u001B[0;32m~/cmpe188/.venv/lib/python3.12/site-packages/sklearn/utils/_available_if.py:32\u001B[0m, in \u001B[0;36m_AvailableIfDescriptor._check\u001B[0;34m(self, obj, owner)\u001B[0m\n\u001B[1;32m     31\u001B[0m \u001B[38;5;28;01mtry\u001B[39;00m:\n\u001B[0;32m---> 32\u001B[0m     check_result \u001B[38;5;241m=\u001B[39m \u001B[38;5;28;43mself\u001B[39;49m\u001B[38;5;241;43m.\u001B[39;49m\u001B[43mcheck\u001B[49m\u001B[43m(\u001B[49m\u001B[43mobj\u001B[49m\u001B[43m)\u001B[49m\n\u001B[1;32m     33\u001B[0m \u001B[38;5;28;01mexcept\u001B[39;00m \u001B[38;5;167;01mException\u001B[39;00m \u001B[38;5;28;01mas\u001B[39;00m e:\n",
      "File \u001B[0;32m~/cmpe188/.venv/lib/python3.12/site-packages/sklearn/svm/_base.py:831\u001B[0m, in \u001B[0;36mBaseSVC._check_proba\u001B[0;34m(self)\u001B[0m\n\u001B[1;32m    830\u001B[0m \u001B[38;5;28;01mif\u001B[39;00m \u001B[38;5;129;01mnot\u001B[39;00m \u001B[38;5;28mself\u001B[39m\u001B[38;5;241m.\u001B[39mprobability:\n\u001B[0;32m--> 831\u001B[0m     \u001B[38;5;28;01mraise\u001B[39;00m \u001B[38;5;167;01mAttributeError\u001B[39;00m(\n\u001B[1;32m    832\u001B[0m         \u001B[38;5;124m\"\u001B[39m\u001B[38;5;124mpredict_proba is not available when probability=False\u001B[39m\u001B[38;5;124m\"\u001B[39m\n\u001B[1;32m    833\u001B[0m     )\n\u001B[1;32m    834\u001B[0m \u001B[38;5;28;01mif\u001B[39;00m \u001B[38;5;28mself\u001B[39m\u001B[38;5;241m.\u001B[39m_impl \u001B[38;5;129;01mnot\u001B[39;00m \u001B[38;5;129;01min\u001B[39;00m (\u001B[38;5;124m\"\u001B[39m\u001B[38;5;124mc_svc\u001B[39m\u001B[38;5;124m\"\u001B[39m, \u001B[38;5;124m\"\u001B[39m\u001B[38;5;124mnu_svc\u001B[39m\u001B[38;5;124m\"\u001B[39m):\n",
      "\u001B[0;31mAttributeError\u001B[0m: predict_proba is not available when probability=False",
      "\nThe above exception was the direct cause of the following exception:\n",
      "\u001B[0;31mAttributeError\u001B[0m                            Traceback (most recent call last)",
      "Cell \u001B[0;32mIn[21], line 8\u001B[0m\n\u001B[1;32m      6\u001B[0m y_scores_dict \u001B[38;5;241m=\u001B[39m {}\n\u001B[1;32m      7\u001B[0m \u001B[38;5;28;01mfor\u001B[39;00m name, model \u001B[38;5;129;01min\u001B[39;00m models:\n\u001B[0;32m----> 8\u001B[0m     y_scores \u001B[38;5;241m=\u001B[39m \u001B[43mmodel\u001B[49m\u001B[38;5;241;43m.\u001B[39;49m\u001B[43mpredict_proba\u001B[49m(X_test)\n\u001B[1;32m      9\u001B[0m     y_scores_dict[name] \u001B[38;5;241m=\u001B[39m y_scores\n\u001B[1;32m     10\u001B[0m     \u001B[38;5;28mprint\u001B[39m(\u001B[38;5;124mf\u001B[39m\u001B[38;5;124m\"\u001B[39m\u001B[38;5;132;01m{\u001B[39;00mname\u001B[38;5;132;01m}\u001B[39;00m\u001B[38;5;124m ROC AUC Score: \u001B[39m\u001B[38;5;132;01m{\u001B[39;00mroc_auc_score(Y_test,\u001B[38;5;250m \u001B[39my_scores[:,\u001B[38;5;250m \u001B[39m\u001B[38;5;241m1\u001B[39m])\u001B[38;5;132;01m:\u001B[39;00m\u001B[38;5;124m.4f\u001B[39m\u001B[38;5;132;01m}\u001B[39;00m\u001B[38;5;124m\"\u001B[39m)\n",
      "File \u001B[0;32m~/cmpe188/.venv/lib/python3.12/site-packages/sklearn/utils/_available_if.py:43\u001B[0m, in \u001B[0;36m_AvailableIfDescriptor.__get__\u001B[0;34m(self, obj, owner)\u001B[0m\n\u001B[1;32m     39\u001B[0m \u001B[38;5;28;01mdef\u001B[39;00m\u001B[38;5;250m \u001B[39m\u001B[38;5;21m__get__\u001B[39m(\u001B[38;5;28mself\u001B[39m, obj, owner\u001B[38;5;241m=\u001B[39m\u001B[38;5;28;01mNone\u001B[39;00m):\n\u001B[1;32m     40\u001B[0m     \u001B[38;5;28;01mif\u001B[39;00m obj \u001B[38;5;129;01mis\u001B[39;00m \u001B[38;5;129;01mnot\u001B[39;00m \u001B[38;5;28;01mNone\u001B[39;00m:\n\u001B[1;32m     41\u001B[0m         \u001B[38;5;66;03m# delegate only on instances, not the classes.\u001B[39;00m\n\u001B[1;32m     42\u001B[0m         \u001B[38;5;66;03m# this is to allow access to the docstrings.\u001B[39;00m\n\u001B[0;32m---> 43\u001B[0m         \u001B[38;5;28;43mself\u001B[39;49m\u001B[38;5;241;43m.\u001B[39;49m\u001B[43m_check\u001B[49m\u001B[43m(\u001B[49m\u001B[43mobj\u001B[49m\u001B[43m,\u001B[49m\u001B[43m \u001B[49m\u001B[43mowner\u001B[49m\u001B[38;5;241;43m=\u001B[39;49m\u001B[43mowner\u001B[49m\u001B[43m)\u001B[49m\n\u001B[1;32m     44\u001B[0m         out \u001B[38;5;241m=\u001B[39m MethodType(\u001B[38;5;28mself\u001B[39m\u001B[38;5;241m.\u001B[39mfn, obj)\n\u001B[1;32m     46\u001B[0m     \u001B[38;5;28;01melse\u001B[39;00m:\n\u001B[1;32m     47\u001B[0m         \u001B[38;5;66;03m# This makes it possible to use the decorated method as an unbound method,\u001B[39;00m\n\u001B[1;32m     48\u001B[0m         \u001B[38;5;66;03m# for instance when monkeypatching.\u001B[39;00m\n",
      "File \u001B[0;32m~/cmpe188/.venv/lib/python3.12/site-packages/sklearn/utils/_available_if.py:34\u001B[0m, in \u001B[0;36m_AvailableIfDescriptor._check\u001B[0;34m(self, obj, owner)\u001B[0m\n\u001B[1;32m     32\u001B[0m     check_result \u001B[38;5;241m=\u001B[39m \u001B[38;5;28mself\u001B[39m\u001B[38;5;241m.\u001B[39mcheck(obj)\n\u001B[1;32m     33\u001B[0m \u001B[38;5;28;01mexcept\u001B[39;00m \u001B[38;5;167;01mException\u001B[39;00m \u001B[38;5;28;01mas\u001B[39;00m e:\n\u001B[0;32m---> 34\u001B[0m     \u001B[38;5;28;01mraise\u001B[39;00m \u001B[38;5;167;01mAttributeError\u001B[39;00m(attr_err_msg) \u001B[38;5;28;01mfrom\u001B[39;00m\u001B[38;5;250m \u001B[39m\u001B[38;5;21;01me\u001B[39;00m\n\u001B[1;32m     36\u001B[0m \u001B[38;5;28;01mif\u001B[39;00m \u001B[38;5;129;01mnot\u001B[39;00m check_result:\n\u001B[1;32m     37\u001B[0m     \u001B[38;5;28;01mraise\u001B[39;00m \u001B[38;5;167;01mAttributeError\u001B[39;00m(attr_err_msg)\n",
      "\u001B[0;31mAttributeError\u001B[0m: This 'SVC' has no attribute 'predict_proba'"
     ]
    }
   ],
   "execution_count": 21
  }
 ],
 "metadata": {
  "kernelspec": {
   "display_name": "Python 3",
   "language": "python",
   "name": "python3"
  },
  "language_info": {
   "codemirror_mode": {
    "name": "ipython",
    "version": 2
   },
   "file_extension": ".py",
   "mimetype": "text/x-python",
   "name": "python",
   "nbconvert_exporter": "python",
   "pygments_lexer": "ipython2",
   "version": "2.7.6"
  }
 },
 "nbformat": 4,
 "nbformat_minor": 5
}
