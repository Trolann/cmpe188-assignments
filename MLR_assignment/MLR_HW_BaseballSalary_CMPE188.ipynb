{
 "cells": [
  {
   "cell_type": "code",
   "execution_count": null,
   "id": "c6ebe92d-565d-4fd8-b18d-d82dab35ee87",
   "metadata": {},
   "outputs": [],
   "source": []
  }
 ],
 "metadata": {
  "kernelspec": {
   "display_name": "",
   "name": ""
  },
  "language_info": {
   "name": ""
  }
 },
 "nbformat": 4,
 "nbformat_minor": 5
}
