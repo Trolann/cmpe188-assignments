{
 "cells": [
  {
   "metadata": {},
   "cell_type": "markdown",
   "source": [
    "Worked with:\n",
    "- Trevor Mathisen\n",
    "\n",
    "- Viet Nguyen"
   ],
   "id": "9327260c5dbfc1ec"
  },
  {
   "metadata": {},
   "cell_type": "markdown",
   "source": [
    "1. Download startup failure dataset and its description.\n",
    "2. Perform standard EDA to get familiar with the dataset."
   ],
   "id": "b2f8a7c4f3714356"
  },
  {
   "cell_type": "code",
   "id": "initial_id",
   "metadata": {
    "collapsed": true,
    "ExecuteTime": {
     "end_time": "2025-04-08T17:37:31.942537Z",
     "start_time": "2025-04-08T17:37:31.466636Z"
    }
   },
   "source": [
    "import pandas as pd\n",
    "from pandas import set_option\n",
    "from pandas import read_csv\n",
    "from sklearn.preprocessing import StandardScaler\n",
    "from sklearn.preprocessing import Normalizer, LabelEncoder\n",
    "from sklearn.linear_model import LogisticRegression\n",
    "from sklearn.feature_selection import RFE\n",
    "from sklearn.model_selection import KFold, cross_val_score\n",
    "from numpy import set_printoptions, log, argmax\n",
    "import seaborn as sns\n",
    "from pandas.plotting import scatter_matrix\n",
    "import statsmodels.api as sm\n",
    "import matplotlib.pyplot as plt\n",
    "from sklearn.datasets import make_classification\n",
    "from sklearn.tree import DecisionTreeClassifier, DecisionTreeRegressor, plot_tree\n",
    "from sklearn.metrics import precision_recall_curve, mean_squared_error\n",
    "from sklearn.model_selection import train_test_split\n",
    "from sklearn.datasets import make_classification\n"
   ],
   "outputs": [],
   "execution_count": 1
  },
  {
   "metadata": {
    "ExecuteTime": {
     "end_time": "2025-04-08T17:50:31.593Z",
     "start_time": "2025-04-08T17:50:31.585703Z"
    }
   },
   "cell_type": "code",
   "source": [
    "filename = 'startupfailures.csv'\n",
    "data = read_csv(filename)\n",
    "set_printoptions(precision=3)\n",
    "data = data.dropna()\n",
    "print(data.isnull().sum())"
   ],
   "id": "a06911aa47df7491",
   "outputs": [
    {
     "name": "stdout",
     "output_type": "stream",
     "text": [
      "Name                      0\n",
      "Sector                    0\n",
      "Years of Operation        0\n",
      "What They Did             0\n",
      "How Much They Raised      0\n",
      "Why They Failed           0\n",
      "Takeaway                  0\n",
      "Giants                    0\n",
      "No Budget                 0\n",
      "Competition               0\n",
      "Poor Market Fit           0\n",
      "Acquisition Stagnation    0\n",
      "Platform Dependency       0\n",
      "Monetization Failure      0\n",
      "Niche Limits              0\n",
      "Execution Flaws           0\n",
      "Trend Shifts              0\n",
      "Toxicity/Trust Issues     0\n",
      "Regulatory Pressure       0\n",
      "Overhype                  0\n",
      "dtype: int64\n"
     ]
    }
   ],
   "execution_count": 36
  },
  {
   "metadata": {
    "ExecuteTime": {
     "end_time": "2025-04-08T17:39:03.706865Z",
     "start_time": "2025-04-08T17:39:03.699707Z"
    }
   },
   "cell_type": "code",
   "source": "print(data.head(5))",
   "id": "3c26b45f04235972",
   "outputs": [
    {
     "name": "stdout",
     "output_type": "stream",
     "text": [
      "             Name                 Sector Years of Operation  \\\n",
      "0           Avant  Finance and Insurance          2012-2023   \n",
      "1         Bitpass  Finance and Insurance          2002-2008   \n",
      "2  Cake Financial  Finance and Insurance          2006-2011   \n",
      "3          Circle  Finance and Insurance          2013-2023   \n",
      "4   Clarity Money  Finance and Insurance          2016-2022   \n",
      "\n",
      "                    What They Did How Much They Raised  \\\n",
      "0           Online personal loans                $655M   \n",
      "1          Micropayments platform                  $2M   \n",
      "2         Portfolio tracking tool                  $3M   \n",
      "3  Crypto payments and stablecoin                $500M   \n",
      "4            Personal finance app                 $11M   \n",
      "\n",
      "                           Why They Failed                     Takeaway  \\\n",
      "0    Lost to LendingClub and high defaults   Lending needs risk balance   \n",
      "1          Lost to PayPal and low adoption  Micropayments need mass use   \n",
      "2       Lost to Mint and sold to TradeKing     Finance tools need scale   \n",
      "3       Lost to Coinbase and market shifts       Crypto needs stability   \n",
      "4  Lost to Mint/Acorns and sold to Goldman       Finance apps need edge   \n",
      "\n",
      "   Giants  No Budget  Competition  Poor Market Fit  Acquisition Stagnation  \\\n",
      "0       1          1            1                0                       0   \n",
      "1       1          0            1                1                       0   \n",
      "2       1          0            1                0                       1   \n",
      "3       1          0            1                0                       0   \n",
      "4       1          0            1                0                       1   \n",
      "\n",
      "   Platform Dependency  Monetization Failure  Niche Limits  Execution Flaws  \\\n",
      "0                    0                     0             0                0   \n",
      "1                    0                     0             0                0   \n",
      "2                    0                     0             0                0   \n",
      "3                    0                     0             0                0   \n",
      "4                    0                     0             0                0   \n",
      "\n",
      "   Trend Shifts  Toxicity/Trust Issues  Regulatory Pressure  Overhype  \n",
      "0             0                      0                    0       0.0  \n",
      "1             0                      0                    0       0.0  \n",
      "2             0                      0                    0       0.0  \n",
      "3             1                      0                    0       0.0  \n",
      "4             0                      0                    0       0.0  \n"
     ]
    }
   ],
   "execution_count": 4
  },
  {
   "metadata": {
    "ExecuteTime": {
     "end_time": "2025-04-08T17:50:33.148511Z",
     "start_time": "2025-04-08T17:50:33.138420Z"
    }
   },
   "cell_type": "code",
   "source": [
    "# Years of operation is a string like '2012-2023'. We need to convert this to three columns: the abs value of the difference in the current column and two new columns: start year, end year.\n",
    "data['start_year'] = data['Years of Operation'].str.split(\"-\", expand=True)[0].astype(int)\n",
    "data['end_year'] = data['Years of Operation'].str.split(\"-\", expand=True)[1].astype(int)\n",
    "data = data.drop(columns=['Years of Operation'])\n",
    "data['Years of Operation'] = data['end_year'] - data['start_year']\n",
    "data = data.drop(columns=['start_year', 'end_year', \"What They Did\", \"Why They Failed\", \"Takeaway\", \"Name\"])\n",
    "print(data.isnull().sum())\n",
    "print(data.head(5))"
   ],
   "id": "276c8df870c6071",
   "outputs": [
    {
     "name": "stdout",
     "output_type": "stream",
     "text": [
      "Sector                    0\n",
      "How Much They Raised      0\n",
      "Giants                    0\n",
      "No Budget                 0\n",
      "Competition               0\n",
      "Poor Market Fit           0\n",
      "Acquisition Stagnation    0\n",
      "Platform Dependency       0\n",
      "Monetization Failure      0\n",
      "Niche Limits              0\n",
      "Execution Flaws           0\n",
      "Trend Shifts              0\n",
      "Toxicity/Trust Issues     0\n",
      "Regulatory Pressure       0\n",
      "Overhype                  0\n",
      "Years of Operation        0\n",
      "dtype: int64\n",
      "                  Sector How Much They Raised  Giants  No Budget  Competition  \\\n",
      "0  Finance and Insurance                $655M       1          1            1   \n",
      "1  Finance and Insurance                  $2M       1          0            1   \n",
      "2  Finance and Insurance                  $3M       1          0            1   \n",
      "3  Finance and Insurance                $500M       1          0            1   \n",
      "4  Finance and Insurance                 $11M       1          0            1   \n",
      "\n",
      "   Poor Market Fit  Acquisition Stagnation  Platform Dependency  \\\n",
      "0                0                       0                    0   \n",
      "1                1                       0                    0   \n",
      "2                0                       1                    0   \n",
      "3                0                       0                    0   \n",
      "4                0                       1                    0   \n",
      "\n",
      "   Monetization Failure  Niche Limits  Execution Flaws  Trend Shifts  \\\n",
      "0                     0             0                0             0   \n",
      "1                     0             0                0             0   \n",
      "2                     0             0                0             0   \n",
      "3                     0             0                0             1   \n",
      "4                     0             0                0             0   \n",
      "\n",
      "   Toxicity/Trust Issues  Regulatory Pressure  Overhype  Years of Operation  \n",
      "0                      0                    0       0.0                  11  \n",
      "1                      0                    0       0.0                   6  \n",
      "2                      0                    0       0.0                   5  \n",
      "3                      0                    0       0.0                  10  \n",
      "4                      0                    0       0.0                   6  \n"
     ]
    }
   ],
   "execution_count": 37
  },
  {
   "metadata": {
    "ExecuteTime": {
     "end_time": "2025-04-08T17:50:34.409145Z",
     "start_time": "2025-04-08T17:50:34.402255Z"
    }
   },
   "cell_type": "code",
   "source": [
    "# Convert Overhype to an integer\n",
    "data['Overhype'] = data['Overhype'].astype(int)\n",
    "# Remove $ and M from How Much They Raised\n",
    "import re\n",
    "\n",
    "def extract_number(text):\n",
    "    if pd.isna(text):\n",
    "        return float('nan')\n",
    "    # Extract the first number in the string (works for cases like \"1.7B (Dropbox)\" or \"0 (SoFi-funded)\")\n",
    "    match = re.search(r'(\\d+\\.?\\d*)', str(text))\n",
    "    if match:\n",
    "        number = float(match.group(1))\n",
    "        # Handle B/M multipliers\n",
    "        if 'B' in text:\n",
    "            number *= 1000  # Convert billions to millions\n",
    "        return number\n",
    "    return float('nan')\n",
    "\n",
    "# Apply the function to clean the column\n",
    "data['How Much They Raised'] = data['How Much They Raised'].apply(extract_number)\n",
    "\n",
    "print(data.head(5))"
   ],
   "id": "16f22dc90b190e0d",
   "outputs": [
    {
     "name": "stdout",
     "output_type": "stream",
     "text": [
      "                  Sector  How Much They Raised  Giants  No Budget  \\\n",
      "0  Finance and Insurance                 655.0       1          1   \n",
      "1  Finance and Insurance                   2.0       1          0   \n",
      "2  Finance and Insurance                   3.0       1          0   \n",
      "3  Finance and Insurance                 500.0       1          0   \n",
      "4  Finance and Insurance                  11.0       1          0   \n",
      "\n",
      "   Competition  Poor Market Fit  Acquisition Stagnation  Platform Dependency  \\\n",
      "0            1                0                       0                    0   \n",
      "1            1                1                       0                    0   \n",
      "2            1                0                       1                    0   \n",
      "3            1                0                       0                    0   \n",
      "4            1                0                       1                    0   \n",
      "\n",
      "   Monetization Failure  Niche Limits  Execution Flaws  Trend Shifts  \\\n",
      "0                     0             0                0             0   \n",
      "1                     0             0                0             0   \n",
      "2                     0             0                0             0   \n",
      "3                     0             0                0             1   \n",
      "4                     0             0                0             0   \n",
      "\n",
      "   Toxicity/Trust Issues  Regulatory Pressure  Overhype  Years of Operation  \n",
      "0                      0                    0         0                  11  \n",
      "1                      0                    0         0                   6  \n",
      "2                      0                    0         0                   5  \n",
      "3                      0                    0         0                  10  \n",
      "4                      0                    0         0                   6  \n"
     ]
    }
   ],
   "execution_count": 38
  },
  {
   "metadata": {
    "ExecuteTime": {
     "end_time": "2025-04-08T17:51:03.664540Z",
     "start_time": "2025-04-08T17:51:03.660665Z"
    }
   },
   "cell_type": "code",
   "source": [
    "label_encoder = LabelEncoder()\n",
    "data[\"Sector\"] = label_encoder.fit_transform(data[\"Sector\"])"
   ],
   "id": "65ea2973954ff036",
   "outputs": [],
   "execution_count": 39
  },
  {
   "metadata": {},
   "cell_type": "markdown",
   "source": [
    "3. Use the sample code for the Ensemble classifier and modify it to work with the Startup\n",
    "dataset."
   ],
   "id": "9782253c746f26d2"
  },
  {
   "metadata": {
    "ExecuteTime": {
     "end_time": "2025-04-08T17:56:44.799445Z",
     "start_time": "2025-04-08T17:56:44.793090Z"
    }
   },
   "cell_type": "code",
   "source": [
    "X = data.drop('Overhype', axis=1)\n",
    "Y = data['Overhype']\n",
    "X_train, X_test, Y_train, Y_test = train_test_split(X, Y, test_size=0.2, random_state=42)"
   ],
   "id": "96f1785e162ee6",
   "outputs": [],
   "execution_count": 42
  },
  {
   "metadata": {},
   "cell_type": "markdown",
   "source": [
    "4. Compare the performance a decision tree, bagging classifier, random forest and a\n",
    "boosting classifier using all default settings and configuration used in the sample code."
   ],
   "id": "7a33af0b532eadcf"
  },
  {
   "metadata": {
    "ExecuteTime": {
     "end_time": "2025-04-08T18:02:29.662394Z",
     "start_time": "2025-04-08T18:02:28.757742Z"
    }
   },
   "cell_type": "code",
   "source": [
    "from sklearn.ensemble import RandomForestClassifier, BaggingClassifier, AdaBoostClassifier\n",
    "from sklearn.tree import DecisionTreeClassifier\n",
    "from sklearn.metrics import accuracy_score\n",
    "\n",
    "bag_clf = BaggingClassifier(\n",
    "    DecisionTreeClassifier(random_state=42), n_estimators=500,\n",
    "    max_samples=0.6, bootstrap=True, n_jobs=-1, random_state=42)\n",
    "bag_clf.fit(X_train, Y_train)\n",
    "bag_y_pred = bag_clf.predict(X_test)\n",
    "\n",
    "dt_clf = DecisionTreeClassifier(random_state=42)\n",
    "dt_clf.fit(X_train, Y_train)\n",
    "dt_y_pred = dt_clf.predict(X_test)\n",
    "\n",
    "rf_clf = RandomForestClassifier(n_estimators=500, max_leaf_nodes=16, n_jobs=-1, random_state=42)\n",
    "rf_clf.fit(X_train, Y_train)\n",
    "rf_y_pred = rf_clf.predict(X_test)\n",
    "\n",
    "ab_clf = AdaBoostClassifier(\n",
    "    DecisionTreeClassifier(random_state=42), n_estimators=500,\n",
    "    learning_rate=1.0, random_state=42)\n",
    "ab_clf.fit(X_train, Y_train)\n",
    "ab_y_pred = ab_clf.predict(X_test)\n",
    "\n",
    "# Calculate and plot the accuracy scores\n",
    "bag_accuracy = accuracy_score(Y_test, bag_y_pred)\n",
    "dt_accuracy = accuracy_score(Y_test, dt_y_pred)\n",
    "rf_accuracy = accuracy_score(Y_test, rf_y_pred)\n",
    "ab_accuracy = accuracy_score(Y_test, ab_y_pred)\n",
    "print(f\"Bagging Classifier Accuracy: {bag_accuracy:.4f}\")\n",
    "print(f\"Decision Tree Classifier Accuracy: {dt_accuracy:.4f}\")\n",
    "print(f\"Random Forest Classifier Accuracy: {rf_accuracy:.4f}\")\n",
    "print(f\"AdaBoost Classifier Accuracy: {ab_accuracy:.4f}\")\n",
    "\n",
    "# Plotting the accuracies\n",
    "import matplotlib.pyplot as plt\n",
    "import numpy as np\n",
    "import seaborn as sns\n",
    "\n",
    "# Set the style\n",
    "sns.set(style=\"whitegrid\")\n",
    "# Data for plotting\n",
    "methods = ['Bagging', 'Decision Tree', 'Random Forest', 'AdaBoost']\n",
    "accuracies = [bag_accuracy, dt_accuracy, rf_accuracy, ab_accuracy]\n",
    "\n",
    "# Create a bar plot\n",
    "plt.figure(figsize=(10, 6))\n",
    "sns.barplot(x=methods, y=accuracies, palette=\"viridis\")\n",
    "plt.title('Classifier Accuracy Comparison')\n",
    "plt.xlabel('Classifier')\n",
    "plt.ylabel('Accuracy')\n",
    "plt.ylim(0, 1)\n",
    "plt.xticks(rotation=45)\n",
    "plt.tight_layout()\n",
    "plt.show()"
   ],
   "id": "599aec0e0b888c81",
   "outputs": [
    {
     "name": "stdout",
     "output_type": "stream",
     "text": [
      "Bagging Classifier Accuracy: 1.0000\n",
      "Decision Tree Classifier Accuracy: 1.0000\n",
      "Random Forest Classifier Accuracy: 1.0000\n",
      "AdaBoost Classifier Accuracy: 1.0000\n"
     ]
    },
    {
     "name": "stderr",
     "output_type": "stream",
     "text": [
      "/tmp/ipykernel_13045/398291460.py:48: FutureWarning: \n",
      "\n",
      "Passing `palette` without assigning `hue` is deprecated and will be removed in v0.14.0. Assign the `x` variable to `hue` and set `legend=False` for the same effect.\n",
      "\n",
      "  sns.barplot(x=methods, y=accuracies, palette=\"viridis\")\n"
     ]
    },
    {
     "data": {
      "text/plain": [
       "<Figure size 1000x600 with 1 Axes>"
      ],
      "image/png": "[encoded data removed]"
     },
     "metadata": {},
     "output_type": "display_data"
    }
   ],
   "execution_count": 49
  }
 ],
 "metadata": {
  "kernelspec": {
   "display_name": "Python 3",
   "language": "python",
   "name": "python3"
  },
  "language_info": {
   "codemirror_mode": {
    "name": "ipython",
    "version": 2
   },
   "file_extension": ".py",
   "mimetype": "text/x-python",
   "name": "python",
   "nbconvert_exporter": "python",
   "pygments_lexer": "ipython2",
   "version": "2.7.6"
  }
 },
 "nbformat": 4,
 "nbformat_minor": 5
}
